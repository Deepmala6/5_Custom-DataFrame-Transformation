{
 "cells": [
  {
   "cell_type": "code",
   "execution_count": 1,
   "id": "fd0a5fa3",
   "metadata": {},
   "outputs": [
    {
     "data": {
      "text/plain": [
       "'GROUPBY:---The groupby function in pandas is used to group data based on one or more columns, allowing for aggregated or customized operations on these groups. It creates a GroupBy object, which splits the data into subsets, applies a function (like sum, mean, etc.), and combines the results. This is particularly useful for analyzing data within categories, such as calculating sales by region or averages by product type'"
      ]
     },
     "execution_count": 1,
     "metadata": {},
     "output_type": "execute_result"
    }
   ],
   "source": [
    "'''GROUPBY:---The groupby function in pandas is used to group data based on one or more columns, allowing for aggregated or customized operations on these groups. It creates a GroupBy object, which splits the data into subsets, applies a function (like sum, mean, etc.), and combines the results. This is particularly useful for analyzing data within categories, such as calculating sales by region or averages by product type'''"
   ]
  },
  {
   "cell_type": "code",
   "execution_count": 3,
   "id": "05659ee0",
   "metadata": {},
   "outputs": [
    {
     "data": {
      "text/plain": [
       "'APPLY:----The apply function in pandas is used to apply custom or built-in functions across rows or columns of a DataFrame or Series. It provides flexibility for performing element-wise operations or aggregating data by allowing you to define complex transformations using user-defined or lambda functions.'"
      ]
     },
     "execution_count": 3,
     "metadata": {},
     "output_type": "execute_result"
    }
   ],
   "source": [
    "'''APPLY:----The apply function in pandas is used to apply custom or built-in functions across rows or columns of a DataFrame or Series. It provides flexibility for performing element-wise operations or aggregating data by allowing you to define complex transformations using user-defined or lambda functions.'''"
   ]
  },
  {
   "cell_type": "code",
   "execution_count": 4,
   "id": "ea784c73",
   "metadata": {},
   "outputs": [],
   "source": [
    "# Libary use for perform data transformation using groupby and apply function.\n",
    "import pandas as pd\n",
    "import numpy as np"
   ]
  },
  {
   "cell_type": "code",
   "execution_count": 5,
   "id": "a19838ab",
   "metadata": {},
   "outputs": [],
   "source": [
    " #Sample DataFrame\n",
    "data = {\n",
    "    'Region': ['North', 'North', 'South', 'South', 'East', 'East', 'West', 'West'],\n",
    "    'Sales': [200, 220, 150, 170, 300, 310, 400, 380],\n",
    "    'Product': ['A', 'B', 'A', 'B', 'A', 'B', 'A', 'B']\n",
    "}\n",
    "df = pd.DataFrame(data)"
   ]
  },
  {
   "cell_type": "code",
   "execution_count": 6,
   "id": "c88ea3ce",
   "metadata": {},
   "outputs": [],
   "source": [
    "# Step 1: Group the data\n",
    "grouped_data = df.groupby('Region')\n"
   ]
  },
  {
   "cell_type": "code",
   "execution_count": 7,
   "id": "3ddf3371",
   "metadata": {},
   "outputs": [],
   "source": [
    "# Step 2: Define the custom transformation function\n",
    "def calculate_z_score(group):\n",
    "    \"\"\"\n",
    "    Calculate z-scores for the 'Sales' column within each group.\n",
    "    \"\"\"\n",
    "    mean = group['Sales'].mean()\n",
    "    std = group['Sales'].std()\n",
    "    group['Z-Score'] = (group['Sales'] - mean) / std\n",
    "    return group"
   ]
  },
  {
   "cell_type": "code",
   "execution_count": 8,
   "id": "8d15a1e0",
   "metadata": {},
   "outputs": [],
   "source": [
    "# Step 3: Apply the custom function to each group\n",
    "transformed_data = grouped_data.apply(calculate_z_score)\n"
   ]
  },
  {
   "cell_type": "code",
   "execution_count": 9,
   "id": "59d9363c",
   "metadata": {},
   "outputs": [],
   "source": [
    "# Reset index for cleaner display\n",
    "transformed_data.reset_index(drop=True, inplace=True)"
   ]
  },
  {
   "cell_type": "code",
   "execution_count": 10,
   "id": "56a317dd",
   "metadata": {},
   "outputs": [
    {
     "name": "stdout",
     "output_type": "stream",
     "text": [
      "  Region  Sales Product   Z-Score\n",
      "0   East    300       A -0.707107\n",
      "1   East    310       B  0.707107\n",
      "2  North    200       A -0.707107\n",
      "3  North    220       B  0.707107\n",
      "4  South    150       A -0.707107\n",
      "5  South    170       B  0.707107\n",
      "6   West    400       A  0.707107\n",
      "7   West    380       B -0.707107\n"
     ]
    }
   ],
   "source": [
    "print(transformed_data)"
   ]
  },
  {
   "cell_type": "code",
   "execution_count": null,
   "id": "3c921afe",
   "metadata": {},
   "outputs": [],
   "source": []
  }
 ],
 "metadata": {
  "kernelspec": {
   "display_name": "Python 3 (ipykernel)",
   "language": "python",
   "name": "python3"
  },
  "language_info": {
   "codemirror_mode": {
    "name": "ipython",
    "version": 3
   },
   "file_extension": ".py",
   "mimetype": "text/x-python",
   "name": "python",
   "nbconvert_exporter": "python",
   "pygments_lexer": "ipython3",
   "version": "3.11.5"
  }
 },
 "nbformat": 4,
 "nbformat_minor": 5
}
